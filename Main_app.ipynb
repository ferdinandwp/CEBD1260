{
 "cells": [
  {
   "cell_type": "markdown",
   "metadata": {},
   "source": [
    "# TARGET\n",
    "####                      \"Target variable (*1 - client with payment difficulties*: he/she had late payment more than X days on at least one of the                                 first Y installments of the loan in our sample, *0 - all other cases*)\",\n"
   ]
  },
  {
   "cell_type": "code",
   "execution_count": 1,
   "metadata": {},
   "outputs": [],
   "source": [
    "\n",
    "import pandas as pd\n",
    "import numpy as np\n",
    "import os\n",
    "import glob\n"
   ]
  },
  {
   "cell_type": "code",
   "execution_count": 2,
   "metadata": {},
   "outputs": [
    {
     "data": {
      "text/plain": [
       "['C:\\\\Users\\\\KALPAW01\\\\Dropbox\\\\Data_for_ML_course\\\\application_train.csv',\n",
       " 'C:\\\\Users\\\\KALPAW01\\\\Dropbox\\\\Data_for_ML_course\\\\bureau.csv',\n",
       " 'C:\\\\Users\\\\KALPAW01\\\\Dropbox\\\\Data_for_ML_course\\\\bureau_balance.csv',\n",
       " 'C:\\\\Users\\\\KALPAW01\\\\Dropbox\\\\Data_for_ML_course\\\\credit_card_balance.csv',\n",
       " 'C:\\\\Users\\\\KALPAW01\\\\Dropbox\\\\Data_for_ML_course\\\\HomeCredit_columns_description.csv',\n",
       " 'C:\\\\Users\\\\KALPAW01\\\\Dropbox\\\\Data_for_ML_course\\\\installments_payments.csv',\n",
       " 'C:\\\\Users\\\\KALPAW01\\\\Dropbox\\\\Data_for_ML_course\\\\POS_CASH_balance.csv',\n",
       " 'C:\\\\Users\\\\KALPAW01\\\\Dropbox\\\\Data_for_ML_course\\\\previous_application.csv']"
      ]
     },
     "execution_count": 2,
     "metadata": {},
     "output_type": "execute_result"
    }
   ],
   "source": [
    "\n",
    "# Importing multiple .csv\n",
    "\n",
    "DATA_PATH = 'C:\\\\Users\\\\KALPAW01\\\\Dropbox\\\\Data_for_ML_course\\\\'\n",
    "flnm_df = glob.glob(DATA_PATH+\"*.csv\")\n",
    "flnm_df"
   ]
  },
  {
   "cell_type": "code",
   "execution_count": 4,
   "metadata": {},
   "outputs": [],
   "source": [
    "# This references the bureau balanced csv\n",
    "main_df = pd.read_csv(flnm_df[0])\n"
   ]
  },
  {
   "cell_type": "markdown",
   "metadata": {},
   "source": [
    "gp = br_df.groupby('SK_ID_BUREAU')"
   ]
  },
  {
   "cell_type": "code",
   "execution_count": 5,
   "metadata": {},
   "outputs": [
    {
     "data": {
      "text/plain": [
       "(307511, 122)"
      ]
     },
     "execution_count": 5,
     "metadata": {},
     "output_type": "execute_result"
    }
   ],
   "source": [
    "br_df.shape"
   ]
  },
  {
   "cell_type": "code",
   "execution_count": 6,
   "metadata": {},
   "outputs": [
    {
     "data": {
      "text/html": [
       "<div>\n",
       "<style scoped>\n",
       "    .dataframe tbody tr th:only-of-type {\n",
       "        vertical-align: middle;\n",
       "    }\n",
       "\n",
       "    .dataframe tbody tr th {\n",
       "        vertical-align: top;\n",
       "    }\n",
       "\n",
       "    .dataframe thead th {\n",
       "        text-align: right;\n",
       "    }\n",
       "</style>\n",
       "<table border=\"1\" class=\"dataframe\">\n",
       "  <thead>\n",
       "    <tr style=\"text-align: right;\">\n",
       "      <th></th>\n",
       "      <th>SK_ID_CURR</th>\n",
       "      <th>TARGET</th>\n",
       "      <th>NAME_CONTRACT_TYPE</th>\n",
       "      <th>CODE_GENDER</th>\n",
       "      <th>FLAG_OWN_CAR</th>\n",
       "      <th>FLAG_OWN_REALTY</th>\n",
       "      <th>CNT_CHILDREN</th>\n",
       "      <th>AMT_INCOME_TOTAL</th>\n",
       "      <th>AMT_CREDIT</th>\n",
       "      <th>AMT_ANNUITY</th>\n",
       "      <th>...</th>\n",
       "      <th>FLAG_DOCUMENT_18</th>\n",
       "      <th>FLAG_DOCUMENT_19</th>\n",
       "      <th>FLAG_DOCUMENT_20</th>\n",
       "      <th>FLAG_DOCUMENT_21</th>\n",
       "      <th>AMT_REQ_CREDIT_BUREAU_HOUR</th>\n",
       "      <th>AMT_REQ_CREDIT_BUREAU_DAY</th>\n",
       "      <th>AMT_REQ_CREDIT_BUREAU_WEEK</th>\n",
       "      <th>AMT_REQ_CREDIT_BUREAU_MON</th>\n",
       "      <th>AMT_REQ_CREDIT_BUREAU_QRT</th>\n",
       "      <th>AMT_REQ_CREDIT_BUREAU_YEAR</th>\n",
       "    </tr>\n",
       "  </thead>\n",
       "  <tbody>\n",
       "    <tr>\n",
       "      <th>0</th>\n",
       "      <td>100002</td>\n",
       "      <td>1</td>\n",
       "      <td>Cash loans</td>\n",
       "      <td>M</td>\n",
       "      <td>N</td>\n",
       "      <td>Y</td>\n",
       "      <td>0</td>\n",
       "      <td>202500.0</td>\n",
       "      <td>406597.5</td>\n",
       "      <td>24700.5</td>\n",
       "      <td>...</td>\n",
       "      <td>0</td>\n",
       "      <td>0</td>\n",
       "      <td>0</td>\n",
       "      <td>0</td>\n",
       "      <td>0.0</td>\n",
       "      <td>0.0</td>\n",
       "      <td>0.0</td>\n",
       "      <td>0.0</td>\n",
       "      <td>0.0</td>\n",
       "      <td>1.0</td>\n",
       "    </tr>\n",
       "    <tr>\n",
       "      <th>1</th>\n",
       "      <td>100003</td>\n",
       "      <td>0</td>\n",
       "      <td>Cash loans</td>\n",
       "      <td>F</td>\n",
       "      <td>N</td>\n",
       "      <td>N</td>\n",
       "      <td>0</td>\n",
       "      <td>270000.0</td>\n",
       "      <td>1293502.5</td>\n",
       "      <td>35698.5</td>\n",
       "      <td>...</td>\n",
       "      <td>0</td>\n",
       "      <td>0</td>\n",
       "      <td>0</td>\n",
       "      <td>0</td>\n",
       "      <td>0.0</td>\n",
       "      <td>0.0</td>\n",
       "      <td>0.0</td>\n",
       "      <td>0.0</td>\n",
       "      <td>0.0</td>\n",
       "      <td>0.0</td>\n",
       "    </tr>\n",
       "    <tr>\n",
       "      <th>2</th>\n",
       "      <td>100004</td>\n",
       "      <td>0</td>\n",
       "      <td>Revolving loans</td>\n",
       "      <td>M</td>\n",
       "      <td>Y</td>\n",
       "      <td>Y</td>\n",
       "      <td>0</td>\n",
       "      <td>67500.0</td>\n",
       "      <td>135000.0</td>\n",
       "      <td>6750.0</td>\n",
       "      <td>...</td>\n",
       "      <td>0</td>\n",
       "      <td>0</td>\n",
       "      <td>0</td>\n",
       "      <td>0</td>\n",
       "      <td>0.0</td>\n",
       "      <td>0.0</td>\n",
       "      <td>0.0</td>\n",
       "      <td>0.0</td>\n",
       "      <td>0.0</td>\n",
       "      <td>0.0</td>\n",
       "    </tr>\n",
       "    <tr>\n",
       "      <th>3</th>\n",
       "      <td>100006</td>\n",
       "      <td>0</td>\n",
       "      <td>Cash loans</td>\n",
       "      <td>F</td>\n",
       "      <td>N</td>\n",
       "      <td>Y</td>\n",
       "      <td>0</td>\n",
       "      <td>135000.0</td>\n",
       "      <td>312682.5</td>\n",
       "      <td>29686.5</td>\n",
       "      <td>...</td>\n",
       "      <td>0</td>\n",
       "      <td>0</td>\n",
       "      <td>0</td>\n",
       "      <td>0</td>\n",
       "      <td>NaN</td>\n",
       "      <td>NaN</td>\n",
       "      <td>NaN</td>\n",
       "      <td>NaN</td>\n",
       "      <td>NaN</td>\n",
       "      <td>NaN</td>\n",
       "    </tr>\n",
       "    <tr>\n",
       "      <th>4</th>\n",
       "      <td>100007</td>\n",
       "      <td>0</td>\n",
       "      <td>Cash loans</td>\n",
       "      <td>M</td>\n",
       "      <td>N</td>\n",
       "      <td>Y</td>\n",
       "      <td>0</td>\n",
       "      <td>121500.0</td>\n",
       "      <td>513000.0</td>\n",
       "      <td>21865.5</td>\n",
       "      <td>...</td>\n",
       "      <td>0</td>\n",
       "      <td>0</td>\n",
       "      <td>0</td>\n",
       "      <td>0</td>\n",
       "      <td>0.0</td>\n",
       "      <td>0.0</td>\n",
       "      <td>0.0</td>\n",
       "      <td>0.0</td>\n",
       "      <td>0.0</td>\n",
       "      <td>0.0</td>\n",
       "    </tr>\n",
       "  </tbody>\n",
       "</table>\n",
       "<p>5 rows × 122 columns</p>\n",
       "</div>"
      ],
      "text/plain": [
       "   SK_ID_CURR  TARGET NAME_CONTRACT_TYPE CODE_GENDER FLAG_OWN_CAR  \\\n",
       "0      100002       1         Cash loans           M            N   \n",
       "1      100003       0         Cash loans           F            N   \n",
       "2      100004       0    Revolving loans           M            Y   \n",
       "3      100006       0         Cash loans           F            N   \n",
       "4      100007       0         Cash loans           M            N   \n",
       "\n",
       "  FLAG_OWN_REALTY  CNT_CHILDREN  AMT_INCOME_TOTAL  AMT_CREDIT  AMT_ANNUITY  \\\n",
       "0               Y             0          202500.0    406597.5      24700.5   \n",
       "1               N             0          270000.0   1293502.5      35698.5   \n",
       "2               Y             0           67500.0    135000.0       6750.0   \n",
       "3               Y             0          135000.0    312682.5      29686.5   \n",
       "4               Y             0          121500.0    513000.0      21865.5   \n",
       "\n",
       "   ...  FLAG_DOCUMENT_18 FLAG_DOCUMENT_19 FLAG_DOCUMENT_20 FLAG_DOCUMENT_21  \\\n",
       "0  ...                 0                0                0                0   \n",
       "1  ...                 0                0                0                0   \n",
       "2  ...                 0                0                0                0   \n",
       "3  ...                 0                0                0                0   \n",
       "4  ...                 0                0                0                0   \n",
       "\n",
       "  AMT_REQ_CREDIT_BUREAU_HOUR AMT_REQ_CREDIT_BUREAU_DAY  \\\n",
       "0                        0.0                       0.0   \n",
       "1                        0.0                       0.0   \n",
       "2                        0.0                       0.0   \n",
       "3                        NaN                       NaN   \n",
       "4                        0.0                       0.0   \n",
       "\n",
       "   AMT_REQ_CREDIT_BUREAU_WEEK  AMT_REQ_CREDIT_BUREAU_MON  \\\n",
       "0                         0.0                        0.0   \n",
       "1                         0.0                        0.0   \n",
       "2                         0.0                        0.0   \n",
       "3                         NaN                        NaN   \n",
       "4                         0.0                        0.0   \n",
       "\n",
       "   AMT_REQ_CREDIT_BUREAU_QRT  AMT_REQ_CREDIT_BUREAU_YEAR  \n",
       "0                        0.0                         1.0  \n",
       "1                        0.0                         0.0  \n",
       "2                        0.0                         0.0  \n",
       "3                        NaN                         NaN  \n",
       "4                        0.0                         0.0  \n",
       "\n",
       "[5 rows x 122 columns]"
      ]
     },
     "execution_count": 6,
     "metadata": {},
     "output_type": "execute_result"
    }
   ],
   "source": [
    "br_df.head()"
   ]
  },
  {
   "cell_type": "code",
   "execution_count": 9,
   "metadata": {},
   "outputs": [
    {
     "name": "stdout",
     "output_type": "stream",
     "text": [
      " SK_ID_CURR: Type:int64\n",
      " TARGET: Type:int64\n",
      " NAME_CONTRACT_TYPE: Type:object\n",
      " CODE_GENDER: Type:object\n",
      " FLAG_OWN_CAR: Type:object\n",
      " FLAG_OWN_REALTY: Type:object\n",
      " CNT_CHILDREN: Type:int64\n",
      " AMT_INCOME_TOTAL: Type:float64\n",
      " AMT_CREDIT: Type:float64\n",
      " AMT_ANNUITY: Type:float64\n",
      " AMT_GOODS_PRICE: Type:float64\n",
      " NAME_TYPE_SUITE: Type:object\n",
      " NAME_INCOME_TYPE: Type:object\n",
      " NAME_EDUCATION_TYPE: Type:object\n",
      " NAME_FAMILY_STATUS: Type:object\n",
      " NAME_HOUSING_TYPE: Type:object\n",
      " REGION_POPULATION_RELATIVE: Type:float64\n",
      " DAYS_BIRTH: Type:int64\n",
      " DAYS_EMPLOYED: Type:int64\n",
      " DAYS_REGISTRATION: Type:float64\n",
      " DAYS_ID_PUBLISH: Type:int64\n",
      " OWN_CAR_AGE: Type:float64\n",
      " FLAG_MOBIL: Type:int64\n",
      " FLAG_EMP_PHONE: Type:int64\n",
      " FLAG_WORK_PHONE: Type:int64\n",
      " FLAG_CONT_MOBILE: Type:int64\n",
      " FLAG_PHONE: Type:int64\n",
      " FLAG_EMAIL: Type:int64\n",
      " OCCUPATION_TYPE: Type:object\n",
      " CNT_FAM_MEMBERS: Type:float64\n",
      " REGION_RATING_CLIENT: Type:int64\n",
      " REGION_RATING_CLIENT_W_CITY: Type:int64\n",
      " WEEKDAY_APPR_PROCESS_START: Type:object\n",
      " HOUR_APPR_PROCESS_START: Type:int64\n",
      " REG_REGION_NOT_LIVE_REGION: Type:int64\n",
      " REG_REGION_NOT_WORK_REGION: Type:int64\n",
      " LIVE_REGION_NOT_WORK_REGION: Type:int64\n",
      " REG_CITY_NOT_LIVE_CITY: Type:int64\n",
      " REG_CITY_NOT_WORK_CITY: Type:int64\n",
      " LIVE_CITY_NOT_WORK_CITY: Type:int64\n",
      " ORGANIZATION_TYPE: Type:object\n",
      " EXT_SOURCE_1: Type:float64\n",
      " EXT_SOURCE_2: Type:float64\n",
      " EXT_SOURCE_3: Type:float64\n",
      " APARTMENTS_AVG: Type:float64\n",
      " BASEMENTAREA_AVG: Type:float64\n",
      " YEARS_BEGINEXPLUATATION_AVG: Type:float64\n",
      " YEARS_BUILD_AVG: Type:float64\n",
      " COMMONAREA_AVG: Type:float64\n",
      " ELEVATORS_AVG: Type:float64\n",
      " ENTRANCES_AVG: Type:float64\n",
      " FLOORSMAX_AVG: Type:float64\n",
      " FLOORSMIN_AVG: Type:float64\n",
      " LANDAREA_AVG: Type:float64\n",
      " LIVINGAPARTMENTS_AVG: Type:float64\n",
      " LIVINGAREA_AVG: Type:float64\n",
      " NONLIVINGAPARTMENTS_AVG: Type:float64\n",
      " NONLIVINGAREA_AVG: Type:float64\n",
      " APARTMENTS_MODE: Type:float64\n",
      " BASEMENTAREA_MODE: Type:float64\n",
      " YEARS_BEGINEXPLUATATION_MODE: Type:float64\n",
      " YEARS_BUILD_MODE: Type:float64\n",
      " COMMONAREA_MODE: Type:float64\n",
      " ELEVATORS_MODE: Type:float64\n",
      " ENTRANCES_MODE: Type:float64\n",
      " FLOORSMAX_MODE: Type:float64\n",
      " FLOORSMIN_MODE: Type:float64\n",
      " LANDAREA_MODE: Type:float64\n",
      " LIVINGAPARTMENTS_MODE: Type:float64\n",
      " LIVINGAREA_MODE: Type:float64\n",
      " NONLIVINGAPARTMENTS_MODE: Type:float64\n",
      " NONLIVINGAREA_MODE: Type:float64\n",
      " APARTMENTS_MEDI: Type:float64\n",
      " BASEMENTAREA_MEDI: Type:float64\n",
      " YEARS_BEGINEXPLUATATION_MEDI: Type:float64\n",
      " YEARS_BUILD_MEDI: Type:float64\n",
      " COMMONAREA_MEDI: Type:float64\n",
      " ELEVATORS_MEDI: Type:float64\n",
      " ENTRANCES_MEDI: Type:float64\n",
      " FLOORSMAX_MEDI: Type:float64\n",
      " FLOORSMIN_MEDI: Type:float64\n",
      " LANDAREA_MEDI: Type:float64\n",
      " LIVINGAPARTMENTS_MEDI: Type:float64\n",
      " LIVINGAREA_MEDI: Type:float64\n",
      " NONLIVINGAPARTMENTS_MEDI: Type:float64\n",
      " NONLIVINGAREA_MEDI: Type:float64\n",
      " FONDKAPREMONT_MODE: Type:object\n",
      " HOUSETYPE_MODE: Type:object\n",
      " TOTALAREA_MODE: Type:float64\n",
      " WALLSMATERIAL_MODE: Type:object\n",
      " EMERGENCYSTATE_MODE: Type:object\n",
      " OBS_30_CNT_SOCIAL_CIRCLE: Type:float64\n",
      " DEF_30_CNT_SOCIAL_CIRCLE: Type:float64\n",
      " OBS_60_CNT_SOCIAL_CIRCLE: Type:float64\n",
      " DEF_60_CNT_SOCIAL_CIRCLE: Type:float64\n",
      " DAYS_LAST_PHONE_CHANGE: Type:float64\n",
      " FLAG_DOCUMENT_2: Type:int64\n",
      " FLAG_DOCUMENT_3: Type:int64\n",
      " FLAG_DOCUMENT_4: Type:int64\n",
      " FLAG_DOCUMENT_5: Type:int64\n",
      " FLAG_DOCUMENT_6: Type:int64\n",
      " FLAG_DOCUMENT_7: Type:int64\n",
      " FLAG_DOCUMENT_8: Type:int64\n",
      " FLAG_DOCUMENT_9: Type:int64\n",
      " FLAG_DOCUMENT_10: Type:int64\n",
      " FLAG_DOCUMENT_11: Type:int64\n",
      " FLAG_DOCUMENT_12: Type:int64\n",
      " FLAG_DOCUMENT_13: Type:int64\n",
      " FLAG_DOCUMENT_14: Type:int64\n",
      " FLAG_DOCUMENT_15: Type:int64\n",
      " FLAG_DOCUMENT_16: Type:int64\n",
      " FLAG_DOCUMENT_17: Type:int64\n",
      " FLAG_DOCUMENT_18: Type:int64\n",
      " FLAG_DOCUMENT_19: Type:int64\n",
      " FLAG_DOCUMENT_20: Type:int64\n",
      " FLAG_DOCUMENT_21: Type:int64\n",
      " AMT_REQ_CREDIT_BUREAU_HOUR: Type:float64\n",
      " AMT_REQ_CREDIT_BUREAU_DAY: Type:float64\n",
      " AMT_REQ_CREDIT_BUREAU_WEEK: Type:float64\n",
      " AMT_REQ_CREDIT_BUREAU_MON: Type:float64\n",
      " AMT_REQ_CREDIT_BUREAU_QRT: Type:float64\n",
      " AMT_REQ_CREDIT_BUREAU_YEAR: Type:float64\n"
     ]
    }
   ],
   "source": [
    "\n",
    "for f in main_df:\n",
    "    print(\" {}: Type:{}\".format(f, main_df[f].dtype))\n"
   ]
  },
  {
   "cell_type": "code",
   "execution_count": 24,
   "metadata": {},
   "outputs": [
    {
     "data": {
      "text/plain": [
       "count    307511.000000\n",
       "mean     -16036.995067\n",
       "std        4363.988632\n",
       "min      -25229.000000\n",
       "25%      -19682.000000\n",
       "50%      -15750.000000\n",
       "75%      -12413.000000\n",
       "max       -7489.000000\n",
       "Name: DAYS_BIRTH, dtype: float64"
      ]
     },
     "execution_count": 24,
     "metadata": {},
     "output_type": "execute_result"
    }
   ],
   "source": [
    "main_df['DAYS_BIRTH'].describe()"
   ]
  },
  {
   "cell_type": "code",
   "execution_count": 27,
   "metadata": {},
   "outputs": [
    {
     "data": {
      "text/plain": [
       "count    307511.000000\n",
       "mean          3.957570\n",
       "std           2.689728\n",
       "min           0.004808\n",
       "25%           2.018667\n",
       "50%           3.265067\n",
       "75%           5.159880\n",
       "max          84.736842\n",
       "dtype: float64"
      ]
     },
     "execution_count": 27,
     "metadata": {},
     "output_type": "execute_result"
    }
   ],
   "source": [
    "# Credit amount to total income ration\n",
    "crinc_ratio = (main_df['AMT_CREDIT']/main_df['AMT_INCOME_TOTAL'])\n",
    "crinc_ratio.columns = ['credit_amount_to_total_income_ratio']\n",
    "crinc_ratio.describe()"
   ]
  },
  {
   "cell_type": "code",
   "execution_count": 22,
   "metadata": {},
   "outputs": [
    {
     "data": {
      "text/plain": [
       "0    0.0\n",
       "1    0.0\n",
       "2    0.0\n",
       "3    0.0\n",
       "4    0.0\n",
       "dtype: float64"
      ]
     },
     "execution_count": 22,
     "metadata": {},
     "output_type": "execute_result"
    }
   ],
   "source": [
    "# Children to Family ratio\n",
    "chldfm_ratio = (main_df['CNT_CHILDREN']/main_df['CNT_FAM_MEMBERS'])*100\n",
    "chldfm_ratio.columns = ['child_to_paretn_ration']\n",
    "chldfm_ratio.head()"
   ]
  },
  {
   "cell_type": "code",
   "execution_count": 23,
   "metadata": {},
   "outputs": [
    {
     "data": {
      "text/plain": [
       "count    307509.000000\n",
       "mean          1.735611\n",
       "std           0.441008\n",
       "min           1.000000\n",
       "25%           1.000000\n",
       "50%           2.000000\n",
       "75%           2.000000\n",
       "max           2.000000\n",
       "dtype: float64"
      ]
     },
     "execution_count": 23,
     "metadata": {},
     "output_type": "execute_result"
    }
   ],
   "source": [
    "# Number of adults\n",
    "Temp1 = main_df['CNT_FAM_MEMBERS']-main_df['CNT_CHILDREN']\n",
    "Temp1.columns =['SK_ID_CURR','number_of_adults']\n",
    "Temp1.describe()"
   ]
  },
  {
   "cell_type": "code",
   "execution_count": 12,
   "metadata": {},
   "outputs": [
    {
     "data": {
      "text/plain": [
       "count    307509.000000\n",
       "mean          2.152665\n",
       "std           0.910682\n",
       "min           1.000000\n",
       "25%           2.000000\n",
       "50%           2.000000\n",
       "75%           3.000000\n",
       "max          20.000000\n",
       "Name: CNT_FAM_MEMBERS, dtype: float64"
      ]
     },
     "execution_count": 12,
     "metadata": {},
     "output_type": "execute_result"
    }
   ],
   "source": [
    "main_df['CNT_FAM_MEMBERS'].describe()"
   ]
  },
  {
   "cell_type": "code",
   "execution_count": null,
   "metadata": {},
   "outputs": [],
   "source": [
    "add_df = pd.DataFrame(gp['CREDIT_ACTIVE'].value_counts())\n",
    "add_df.columns = ['CREDIT_ACTIVE_count']\n",
    "add_df.head(100)"
   ]
  },
  {
   "cell_type": "code",
   "execution_count": null,
   "metadata": {},
   "outputs": [],
   "source": []
  },
  {
   "cell_type": "code",
   "execution_count": null,
   "metadata": {},
   "outputs": [],
   "source": [
    "brcreditactive_df"
   ]
  },
  {
   "cell_type": "code",
   "execution_count": null,
   "metadata": {},
   "outputs": [],
   "source": [
    "brcreditactive_df.head()"
   ]
  },
  {
   "cell_type": "raw",
   "metadata": {},
   "source": []
  },
  {
   "cell_type": "code",
   "execution_count": null,
   "metadata": {},
   "outputs": [],
   "source": [
    "\n",
    "# Using a pivot table to get the frequency of every STATUS\n",
    "brcreditactive_agg = pd.pivot_table(brcreditactive_df, columns= 'CREDIT_ACTIVE', index=\"SK_ID_BUREAU\",fill_value=0, aggfunc=\"count\")\n",
    "# Arrange column names to be more readable"
   ]
  },
  {
   "cell_type": "code",
   "execution_count": null,
   "metadata": {},
   "outputs": [],
   "source": [
    "brcreditactive_agg.head()"
   ]
  },
  {
   "cell_type": "code",
   "execution_count": null,
   "metadata": {},
   "outputs": [],
   "source": [
    "STS_Agg.shape, brbl_df['SK_ID_BUREAU'].nunique()"
   ]
  },
  {
   "cell_type": "code",
   "execution_count": null,
   "metadata": {},
   "outputs": [],
   "source": [
    "# Arrange column names to be more readable\n",
    "STS_Agg.columns = ['BURO_{}_{}'.format(x[0],x[1]) for x in STS_Agg.columns.tolist()]\n",
    "STS_Agg"
   ]
  },
  {
   "cell_type": "code",
   "execution_count": null,
   "metadata": {},
   "outputs": [],
   "source": []
  }
 ],
 "metadata": {
  "kernelspec": {
   "display_name": "Python 3",
   "language": "python",
   "name": "python3"
  },
  "language_info": {
   "codemirror_mode": {
    "name": "ipython",
    "version": 3
   },
   "file_extension": ".py",
   "mimetype": "text/x-python",
   "name": "python",
   "nbconvert_exporter": "python",
   "pygments_lexer": "ipython3",
   "version": "3.7.3"
  }
 },
 "nbformat": 4,
 "nbformat_minor": 2
}
